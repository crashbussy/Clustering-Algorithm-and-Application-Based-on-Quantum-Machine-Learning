{
 "cells": [
  {
   "cell_type": "code",
   "execution_count": null,
   "id": "b08c5927",
   "metadata": {},
   "outputs": [],
   "source": [
    "\"\"\"\n",
    "#用np保存数据为csv格式范例\n",
    "import numpy as np\n",
    "data = np.array(['name','age','gender'],  \n",
    "['Alice',25,'female']           \n",
    "['Bob',30,'male'])\n",
    "filename = 'data.csv'\n",
    "np.savetxt(filename,data,fmt'%s',delimiter=',')\n",
    "\"\"\""
   ]
  },
  {
   "cell_type": "code",
   "execution_count": 2,
   "id": "efb3f9a9",
   "metadata": {},
   "outputs": [
    {
     "name": "stdout",
     "output_type": "stream",
     "text": [
      "['math', 'hep', 'hep', 'cond-mat', 'stat', 'cs', 'cs', 'eess', 'stat', 'cs', 'math', 'hep', 'cs', 'astro-ph', 'cond-mat', 'math', 'stat', 'cs', 'math', 'math', 'astro-ph', 'stat', 'eess', 'hep', 'cs', 'hep', 'math', 'hep', 'other', 'math', 'math', 'q-bio', 'cs', 'cond-mat', 'stat', 'cs', 'cs', 'cs', 'cs', 'hep', 'math', 'hep', 'math', 'cs', 'math', 'cs', 'q-bio', 'cond-mat', 'cs', 'math', 'other', 'astro-ph', 'cs', 'astro-ph', 'hep', 'astro-ph', 'cond-mat', 'astro-ph', 'cs', 'quant-ph', 'cond-mat', 'q-bio', 'math', 'other', 'cs', 'math', 'math', 'cs', 'math', 'cs', 'astro-ph', 'math', 'math', 'math', 'quant-ph', 'astro-ph', 'stat', 'quant-ph', 'astro-ph', 'cond-mat', 'cond-mat', 'math', 'cs', 'other', 'cs', 'math', 'cs', 'cond-mat', 'math', 'math', 'quant-ph', 'other', 'math', 'hep', 'hep', 'math', 'cond-mat', 'math', 'astro-ph', 'cs']\n"
     ]
    }
   ],
   "source": [
    "data_num=100\n",
    "import datasets \n",
    "dataset_name = 'D:\\HF dataset\\mteb/arxiv-clustering-s2s'\n",
    "dataset = datasets.load_from_disk(dataset_name)  \n",
    "from random import sample    \n",
    "import random   \n",
    "n = random.randint(1,999999)    \n",
    "random.seed(n)   \n",
    "sentences = sample(dataset['test'][0]['sentences'],data_num)     \n",
    "random.seed(n)    \n",
    "labels =  sample(dataset['test'][0]['labels'],data_num)\n",
    "print(labels)"
   ]
  },
  {
   "cell_type": "code",
   "execution_count": 55,
   "id": "d55cfab1",
   "metadata": {},
   "outputs": [],
   "source": [
    "#用np保存数据为csv举例\n",
    "import numpy as np\n",
    "output = np.array([['v_measure','标签种类(k)']])\n",
    "count = 0\n",
    "result = 0\n",
    "for i in range(100):\n",
    "    #print(i)\n",
    "    output = np.insert(output,i+1,[str(result),str(count)],axis=0)\n",
    "    count = 2+count\n",
    "    result = 1+result\n",
    "#print(output)\n",
    "filename = '学习numpy保存数据（自动化输出）.csv'\n",
    "np.savetxt(filename,output,fmt='%s',delimiter=',')"
   ]
  },
  {
   "cell_type": "code",
   "execution_count": 39,
   "id": "83d1cac7",
   "metadata": {},
   "outputs": [
    {
     "name": "stdout",
     "output_type": "stream",
     "text": [
      "all-MiniLM-L6-v2arxiv-clustering-s2s\n"
     ]
    }
   ],
   "source": []
  },
  {
   "cell_type": "code",
   "execution_count": 28,
   "id": "acce604d",
   "metadata": {},
   "outputs": [
    {
     "name": "stdout",
     "output_type": "stream",
     "text": [
      "aaabbb.csv\n"
     ]
    }
   ],
   "source": [
    "#%s占位符的用法\n",
    "filename = '%s%s.csv'%('aaa','bbb')\n",
    "print(filename)"
   ]
  },
  {
   "cell_type": "code",
   "execution_count": null,
   "id": "5fc045f9",
   "metadata": {},
   "outputs": [],
   "source": [
    "#index() 选择字符串的某一部分\n",
    "#python的内置函数index()可以检测一个字符串中是否包含子字符串，\n",
    "#如果有则会返回子字符串匹配的第一个索引，没有则会报错，使用它来截取字符串特定部分的方法如下\n",
    "str = ”这是一个能够被截取的字符串”\n",
    "str1 = ”字符串”    # 这是指定截取的部分\n",
    "# 判断字符串之中是否包含指定截取的部分\n",
    "num = str.inde(str1)\n",
    "# 根据返回的索引和指定字符串的长度进行截取\n",
    "print(str[num:len(str1)+1])    # 加一是因为索引从零开始字符串"
   ]
  },
  {
   "cell_type": "code",
   "execution_count": 2,
   "id": "a73bff13",
   "metadata": {},
   "outputs": [],
   "source": [
    "#如何自动化输出？\n",
    "#1 需要输出的值是：v_measure和 种类\n",
    "#所以，np.array为两列"
   ]
  },
  {
   "cell_type": "code",
   "execution_count": 5,
   "id": "dcfaf151",
   "metadata": {},
   "outputs": [
    {
     "name": "stdout",
     "output_type": "stream",
     "text": [
      "[3, 2, 5, 1, 4]\n"
     ]
    }
   ],
   "source": [
    "#测试random.sample list中  随机抽取若干个元素（无重复）（seed的作用）\n",
    "from random import sample\n",
    "import random\n",
    "random.seed(1)\n",
    "l = [1, 2, 3, 4, 5, 6, 7, 8, 9, 10] \n",
    "print(sample(l, 5))\n"
   ]
  },
  {
   "cell_type": "code",
   "execution_count": 1,
   "id": "32227299",
   "metadata": {},
   "outputs": [
    {
     "name": "stdout",
     "output_type": "stream",
     "text": [
      "[10, 4, 9, 6, 2]\n",
      "[10, 4, 9, 6, 2]\n"
     ]
    }
   ],
   "source": [
    "#测试random.sample \n",
    "from random import sample\n",
    "import random\n",
    "n = random.randint(1,100000)\n",
    "random.seed(n)\n",
    "l = [1, 2, 3, 4, 5, 6, 7, 8, 9, 10] \n",
    "print(sample(l, 5))\n",
    "random.seed(n)\n",
    "print(sample(l, 5))"
   ]
  },
  {
   "cell_type": "code",
   "execution_count": 54,
   "id": "78c02f78",
   "metadata": {},
   "outputs": [],
   "source": [
    "#测试random.sample \n",
    "dataset_name = 'D:\\HF dataset\\mteb/arxiv-clustering-s2s'\n",
    "data_num = 100\n",
    "import datasets   \n",
    "dataset = datasets.load_from_disk(dataset_name)\n",
    "from random import sample\n",
    "import random \n",
    "n = random.randint(1,999999) \n",
    "random.seed(n)\n",
    "sentences = sample(dataset['test'][0]['sentences'],data_num)\n",
    "random.seed(n)\n",
    "labels =  sample(dataset['test'][0]['labels'],data_num)"
   ]
  },
  {
   "cell_type": "code",
   "execution_count": 13,
   "id": "42000920",
   "metadata": {},
   "outputs": [
    {
     "name": "stdout",
     "output_type": "stream",
     "text": [
      "[1, 10, 6, 4, 3]\n"
     ]
    }
   ],
   "source": []
  },
  {
   "cell_type": "code",
   "execution_count": null,
   "id": "a41963d4",
   "metadata": {},
   "outputs": [],
   "source": []
  },
  {
   "cell_type": "code",
   "execution_count": null,
   "id": "a60c52b7",
   "metadata": {},
   "outputs": [],
   "source": []
  }
 ],
 "metadata": {
  "kernelspec": {
   "display_name": "Python 3 (ipykernel)",
   "language": "python",
   "name": "python3"
  },
  "language_info": {
   "codemirror_mode": {
    "name": "ipython",
    "version": 3
   },
   "file_extension": ".py",
   "mimetype": "text/x-python",
   "name": "python",
   "nbconvert_exporter": "python",
   "pygments_lexer": "ipython3",
   "version": "3.9.15"
  }
 },
 "nbformat": 4,
 "nbformat_minor": 5
}
