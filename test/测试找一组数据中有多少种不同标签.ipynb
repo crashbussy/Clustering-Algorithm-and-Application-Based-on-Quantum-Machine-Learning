{
 "cells": [
  {
   "cell_type": "code",
   "execution_count": 59,
   "id": "fc6d1ccc",
   "metadata": {},
   "outputs": [
    {
     "data": {
      "application/vnd.jupyter.widget-view+json": {
       "model_id": "b4d20fc4a84f4f688ae393ee3a15fcc0",
       "version_major": 2,
       "version_minor": 0
      },
      "text/plain": [
       "Downloading readme:   0%|          | 0.00/22.0 [00:00<?, ?B/s]"
      ]
     },
     "metadata": {},
     "output_type": "display_data"
    },
    {
     "name": "stdout",
     "output_type": "stream",
     "text": [
      "Downloading and preparing dataset json/mteb--twentynewsgroups-clustering to C:/Users/ZhiShiLang/.cache/huggingface/datasets/mteb___json/mteb--twentynewsgroups-clustering-b887f4b6d8d0e927/0.0.0/0f7e3662623656454fcd2b650f34e886a7db4b9104504885bd462096cc7a9f51...\n"
     ]
    },
    {
     "data": {
      "application/vnd.jupyter.widget-view+json": {
       "model_id": "7883cf42cb2a4a58896ebb414e946bf6",
       "version_major": 2,
       "version_minor": 0
      },
      "text/plain": [
       "Downloading data files:   0%|          | 0/1 [00:00<?, ?it/s]"
      ]
     },
     "metadata": {},
     "output_type": "display_data"
    },
    {
     "data": {
      "application/vnd.jupyter.widget-view+json": {
       "model_id": "ece0a34ca2334d73a2c998e7255c9064",
       "version_major": 2,
       "version_minor": 0
      },
      "text/plain": [
       "Downloading data:   0%|          | 0.00/2.36M [00:00<?, ?B/s]"
      ]
     },
     "metadata": {},
     "output_type": "display_data"
    },
    {
     "data": {
      "application/vnd.jupyter.widget-view+json": {
       "model_id": "8803a24428474892ae9347310edc2404",
       "version_major": 2,
       "version_minor": 0
      },
      "text/plain": [
       "Extracting data files:   0%|          | 0/1 [00:00<?, ?it/s]"
      ]
     },
     "metadata": {},
     "output_type": "display_data"
    },
    {
     "data": {
      "application/vnd.jupyter.widget-view+json": {
       "model_id": "",
       "version_major": 2,
       "version_minor": 0
      },
      "text/plain": [
       "Generating test split: 0 examples [00:00, ? examples/s]"
      ]
     },
     "metadata": {},
     "output_type": "display_data"
    },
    {
     "name": "stdout",
     "output_type": "stream",
     "text": [
      "Dataset json downloaded and prepared to C:/Users/ZhiShiLang/.cache/huggingface/datasets/mteb___json/mteb--twentynewsgroups-clustering-b887f4b6d8d0e927/0.0.0/0f7e3662623656454fcd2b650f34e886a7db4b9104504885bd462096cc7a9f51. Subsequent calls will reuse this data.\n"
     ]
    },
    {
     "data": {
      "application/vnd.jupyter.widget-view+json": {
       "model_id": "ac89774fdaf44c7d94bafaf055492822",
       "version_major": 2,
       "version_minor": 0
      },
      "text/plain": [
       "  0%|          | 0/1 [00:00<?, ?it/s]"
      ]
     },
     "metadata": {},
     "output_type": "display_data"
    },
    {
     "data": {
      "application/vnd.jupyter.widget-view+json": {
       "model_id": "",
       "version_major": 2,
       "version_minor": 0
      },
      "text/plain": [
       "Saving the dataset (0/1 shards):   0%|          | 0/10 [00:00<?, ? examples/s]"
      ]
     },
     "metadata": {},
     "output_type": "display_data"
    }
   ],
   "source": [
    "\"\"\"\n",
    "可选数据集：\n",
    "'D:\\HF dataset\\mteb/arxiv-clustering-p2p'\n",
    "'D:\\HF dataset\\mteb/arxiv-clustering-s2s'\n",
    "'D:\\HF dataset\\mteb/biorxiv-clustering-p2p'\n",
    "'D:\\HF dataset\\mteb/biorxiv-clustering-s2s'\n",
    "'D:\\HF dataset\\mteb/medrxiv-clustering-s2s'\n",
    "'D:\\HF dataset\\mteb/reddit-clustering'\n",
    "'D:\\HF dataset\\mteb/reddit-clustering-p2p'\n",
    "'D:\\HF dataset\\mteb/stackExchange-clustering'\n",
    "'D:\\HF dataset\\mteb/stackExchange-clustering-p2p'\n",
    "'D:\\HF dataset\\mteb/twentynewsgroups-clustering'\n",
    "\"\"\""
   ]
  },
  {
   "cell_type": "code",
   "execution_count": 51,
   "id": "4d55be42",
   "metadata": {},
   "outputs": [],
   "source": [
    "data_num=100\n",
    "import datasets\n",
    "dataset_name = 'D:\\HF dataset\\mteb/biorxiv-clustering-p2p'\n",
    "dataset = datasets.load_from_disk(dataset_name)   \n",
    "from random import sample    \n",
    "import random   \n",
    "n = random.randint(1,999999)  \n",
    "random.seed(n)  \n",
    "sentences = sample(dataset['test'][0]['sentences'],data_num)  \n",
    "random.seed(n)  \n",
    "labels =  sample(dataset['test'][0]['labels'],data_num)\n",
    "#print(labels)"
   ]
  },
  {
   "cell_type": "code",
   "execution_count": 52,
   "id": "613161f5",
   "metadata": {},
   "outputs": [],
   "source": [
    "#print(labels)"
   ]
  },
  {
   "cell_type": "code",
   "execution_count": 53,
   "id": "e63ac4ca",
   "metadata": {},
   "outputs": [],
   "source": [
    "k=[0]*len(labels)"
   ]
  },
  {
   "cell_type": "code",
   "execution_count": 54,
   "id": "faf43686",
   "metadata": {},
   "outputs": [
    {
     "name": "stdout",
     "output_type": "stream",
     "text": [
      "一共有多少种不同的标签： 20\n"
     ]
    }
   ],
   "source": [
    "flag1 = 0\n",
    "count = 0\n",
    "for i in labels: \n",
    "    flag1 = 0 \n",
    "    for j in k: \n",
    "        if j == i: \n",
    "            flag1 = 0\n",
    "            break \n",
    "        else:  \n",
    "            flag1 = 1\n",
    "    if flag1 == 1:\n",
    "        for n in range(len(labels)):\n",
    "            if k[n] == 0:\n",
    "                k[n] = i\n",
    "                break\n",
    "            else:\n",
    "                continue\n",
    "for m in k:\n",
    "    if m == 0:\n",
    "        break\n",
    "    else:\n",
    "        count = count + 1 \n",
    "#print(len(k))\n",
    "#print(k)\n",
    "print('一共有多少种不同的标签：',count)"
   ]
  },
  {
   "cell_type": "code",
   "execution_count": null,
   "id": "6d12c57f",
   "metadata": {},
   "outputs": [],
   "source": []
  }
 ],
 "metadata": {
  "kernelspec": {
   "display_name": "Python [conda env:Anaconda3-pytorch]",
   "language": "python",
   "name": "conda-env-Anaconda3-pytorch-py"
  },
  "language_info": {
   "codemirror_mode": {
    "name": "ipython",
    "version": 3
   },
   "file_extension": ".py",
   "mimetype": "text/x-python",
   "name": "python",
   "nbconvert_exporter": "python",
   "pygments_lexer": "ipython3",
   "version": "3.9.15"
  }
 },
 "nbformat": 4,
 "nbformat_minor": 5
}
