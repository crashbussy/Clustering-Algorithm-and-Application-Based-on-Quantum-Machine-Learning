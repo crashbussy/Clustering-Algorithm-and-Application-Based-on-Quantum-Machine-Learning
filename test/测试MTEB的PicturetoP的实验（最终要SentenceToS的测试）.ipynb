{
 "cells": [
  {
   "cell_type": "code",
   "execution_count": 1,
   "id": "c1648dd4",
   "metadata": {},
   "outputs": [
    {
     "data": {
      "application/vnd.jupyter.widget-view+json": {
       "model_id": "425efe6b298849fb871b279e4294b0da",
       "version_major": 2,
       "version_minor": 0
      },
      "text/plain": [
       "Downloading:   0%|          | 0.00/1.18k [00:00<?, ?B/s]"
      ]
     },
     "metadata": {},
     "output_type": "display_data"
    },
    {
     "data": {
      "application/vnd.jupyter.widget-view+json": {
       "model_id": "1ced861aa2a84d118af72d3138734a9e",
       "version_major": 2,
       "version_minor": 0
      },
      "text/plain": [
       "Downloading:   0%|          | 0.00/190 [00:00<?, ?B/s]"
      ]
     },
     "metadata": {},
     "output_type": "display_data"
    },
    {
     "data": {
      "application/vnd.jupyter.widget-view+json": {
       "model_id": "556fd71023454ae097de80521025ab33",
       "version_major": 2,
       "version_minor": 0
      },
      "text/plain": [
       "Downloading:   0%|          | 0.00/10.6k [00:00<?, ?B/s]"
      ]
     },
     "metadata": {},
     "output_type": "display_data"
    },
    {
     "data": {
      "application/vnd.jupyter.widget-view+json": {
       "model_id": "0abc9d2fc59e4a1993f0e9ad4fa44be9",
       "version_major": 2,
       "version_minor": 0
      },
      "text/plain": [
       "Downloading:   0%|          | 0.00/573 [00:00<?, ?B/s]"
      ]
     },
     "metadata": {},
     "output_type": "display_data"
    },
    {
     "data": {
      "application/vnd.jupyter.widget-view+json": {
       "model_id": "c3bd3188484f4034b957335f81f8c31f",
       "version_major": 2,
       "version_minor": 0
      },
      "text/plain": [
       "Downloading:   0%|          | 0.00/116 [00:00<?, ?B/s]"
      ]
     },
     "metadata": {},
     "output_type": "display_data"
    },
    {
     "data": {
      "application/vnd.jupyter.widget-view+json": {
       "model_id": "813581a08c3744c4a2b456cd4654cbcb",
       "version_major": 2,
       "version_minor": 0
      },
      "text/plain": [
       "Downloading:   0%|          | 0.00/39.3k [00:00<?, ?B/s]"
      ]
     },
     "metadata": {},
     "output_type": "display_data"
    },
    {
     "data": {
      "application/vnd.jupyter.widget-view+json": {
       "model_id": "a5fb3c35627a4ddba0bd5442a8e00286",
       "version_major": 2,
       "version_minor": 0
      },
      "text/plain": [
       "Downloading:   0%|          | 0.00/134M [00:00<?, ?B/s]"
      ]
     },
     "metadata": {},
     "output_type": "display_data"
    },
    {
     "data": {
      "application/vnd.jupyter.widget-view+json": {
       "model_id": "859ab2ee0d794e638766c6a2cdef9c78",
       "version_major": 2,
       "version_minor": 0
      },
      "text/plain": [
       "Downloading:   0%|          | 0.00/53.0 [00:00<?, ?B/s]"
      ]
     },
     "metadata": {},
     "output_type": "display_data"
    },
    {
     "data": {
      "application/vnd.jupyter.widget-view+json": {
       "model_id": "6102e484118a4b4687b4a023cc358992",
       "version_major": 2,
       "version_minor": 0
      },
      "text/plain": [
       "Downloading:   0%|          | 0.00/112 [00:00<?, ?B/s]"
      ]
     },
     "metadata": {},
     "output_type": "display_data"
    },
    {
     "data": {
      "application/vnd.jupyter.widget-view+json": {
       "model_id": "42b4d708c3714212b416e1e4f8edeb8b",
       "version_major": 2,
       "version_minor": 0
      },
      "text/plain": [
       "Downloading:   0%|          | 0.00/466k [00:00<?, ?B/s]"
      ]
     },
     "metadata": {},
     "output_type": "display_data"
    },
    {
     "data": {
      "application/vnd.jupyter.widget-view+json": {
       "model_id": "d3edaaa9a1364249b064517f3d63732b",
       "version_major": 2,
       "version_minor": 0
      },
      "text/plain": [
       "Downloading:   0%|          | 0.00/352 [00:00<?, ?B/s]"
      ]
     },
     "metadata": {},
     "output_type": "display_data"
    },
    {
     "data": {
      "application/vnd.jupyter.widget-view+json": {
       "model_id": "9e6b76c0dabe4ccfa9889dd523c6c3ed",
       "version_major": 2,
       "version_minor": 0
      },
      "text/plain": [
       "Downloading:   0%|          | 0.00/13.2k [00:00<?, ?B/s]"
      ]
     },
     "metadata": {},
     "output_type": "display_data"
    },
    {
     "data": {
      "application/vnd.jupyter.widget-view+json": {
       "model_id": "92c5b9186f8345a3a668dc511868e59e",
       "version_major": 2,
       "version_minor": 0
      },
      "text/plain": [
       "Downloading:   0%|          | 0.00/232k [00:00<?, ?B/s]"
      ]
     },
     "metadata": {},
     "output_type": "display_data"
    },
    {
     "data": {
      "application/vnd.jupyter.widget-view+json": {
       "model_id": "f9503da5c9a341388454bda779448259",
       "version_major": 2,
       "version_minor": 0
      },
      "text/plain": [
       "Downloading:   0%|          | 0.00/349 [00:00<?, ?B/s]"
      ]
     },
     "metadata": {},
     "output_type": "display_data"
    },
    {
     "data": {
      "text/html": [
       "<pre style=\"white-space:pre;overflow-x:auto;line-height:normal;font-family:Menlo,'DejaVu Sans Mono',consolas,'Courier New',monospace\"><span style=\"color: #262626; text-decoration-color: #262626\">───────────────────────────────────────────────── </span><span style=\"font-weight: bold\">Selected tasks </span><span style=\"color: #262626; text-decoration-color: #262626\"> ─────────────────────────────────────────────────</span>\n",
       "</pre>\n"
      ],
      "text/plain": [
       "\u001b[38;5;235m───────────────────────────────────────────────── \u001b[0m\u001b[1mSelected tasks \u001b[0m\u001b[38;5;235m ─────────────────────────────────────────────────\u001b[0m\n"
      ]
     },
     "metadata": {},
     "output_type": "display_data"
    },
    {
     "data": {
      "text/html": [
       "<pre style=\"white-space:pre;overflow-x:auto;line-height:normal;font-family:Menlo,'DejaVu Sans Mono',consolas,'Courier New',monospace\"><span style=\"font-weight: bold\">Clustering</span>\n",
       "</pre>\n"
      ],
      "text/plain": [
       "\u001b[1mClustering\u001b[0m\n"
      ]
     },
     "metadata": {},
     "output_type": "display_data"
    },
    {
     "data": {
      "text/html": [
       "<pre style=\"white-space:pre;overflow-x:auto;line-height:normal;font-family:Menlo,'DejaVu Sans Mono',consolas,'Courier New',monospace\">    - ArxivClusteringP2P, <span style=\"color: #626262; text-decoration-color: #626262; font-style: italic\">p2p</span>\n",
       "</pre>\n"
      ],
      "text/plain": [
       "    - ArxivClusteringP2P, \u001b[3;38;5;241mp2p\u001b[0m\n"
      ]
     },
     "metadata": {},
     "output_type": "display_data"
    },
    {
     "data": {
      "text/html": [
       "<pre style=\"white-space:pre;overflow-x:auto;line-height:normal;font-family:Menlo,'DejaVu Sans Mono',consolas,'Courier New',monospace\">\n",
       "\n",
       "</pre>\n"
      ],
      "text/plain": [
       "\n",
       "\n"
      ]
     },
     "metadata": {},
     "output_type": "display_data"
    },
    {
     "name": "stdout",
     "output_type": "stream",
     "text": [
      "Downloading and preparing dataset json/mteb--arxiv-clustering-p2p to C:/Users/ZhiShiLang/.cache/huggingface/datasets/mteb___json/mteb--arxiv-clustering-p2p-e18d0af595b18f0b/0.0.0/0f7e3662623656454fcd2b650f34e886a7db4b9104504885bd462096cc7a9f51...\n",
      "Dataset json downloaded and prepared to C:/Users/ZhiShiLang/.cache/huggingface/datasets/mteb___json/mteb--arxiv-clustering-p2p-e18d0af595b18f0b/0.0.0/0f7e3662623656454fcd2b650f34e886a7db4b9104504885bd462096cc7a9f51. Subsequent calls will reuse this data.\n"
     ]
    },
    {
     "name": "stderr",
     "output_type": "stream",
     "text": [
      "Clustering:   0%|                                                                               | 0/31 [00:00<?, ?it/s]d:\\Tool\\Anaconda3\\envs\\pytorch\\lib\\site-packages\\sklearn\\cluster\\_kmeans.py:870: FutureWarning: The default value of `n_init` will change from 3 to 'auto' in 1.4. Set the value of `n_init` explicitly to suppress the warning\n",
      "  warnings.warn(\n",
      "Clustering:   3%|██▎                                                                    | 1/31 [01:21<40:55, 81.85s/it]d:\\Tool\\Anaconda3\\envs\\pytorch\\lib\\site-packages\\sklearn\\cluster\\_kmeans.py:870: FutureWarning: The default value of `n_init` will change from 3 to 'auto' in 1.4. Set the value of `n_init` explicitly to suppress the warning\n",
      "  warnings.warn(\n",
      "Clustering:   6%|████▌                                                                  | 2/31 [02:35<37:21, 77.31s/it]d:\\Tool\\Anaconda3\\envs\\pytorch\\lib\\site-packages\\sklearn\\cluster\\_kmeans.py:870: FutureWarning: The default value of `n_init` will change from 3 to 'auto' in 1.4. Set the value of `n_init` explicitly to suppress the warning\n",
      "  warnings.warn(\n",
      "Clustering:  10%|██████▊                                                                | 3/31 [03:50<35:33, 76.19s/it]d:\\Tool\\Anaconda3\\envs\\pytorch\\lib\\site-packages\\sklearn\\cluster\\_kmeans.py:870: FutureWarning: The default value of `n_init` will change from 3 to 'auto' in 1.4. Set the value of `n_init` explicitly to suppress the warning\n",
      "  warnings.warn(\n",
      "Clustering:  13%|█████████▏                                                             | 4/31 [05:06<34:12, 76.03s/it]d:\\Tool\\Anaconda3\\envs\\pytorch\\lib\\site-packages\\sklearn\\cluster\\_kmeans.py:870: FutureWarning: The default value of `n_init` will change from 3 to 'auto' in 1.4. Set the value of `n_init` explicitly to suppress the warning\n",
      "  warnings.warn(\n",
      "Clustering:  16%|███████████▍                                                           | 5/31 [06:21<32:46, 75.65s/it]d:\\Tool\\Anaconda3\\envs\\pytorch\\lib\\site-packages\\sklearn\\cluster\\_kmeans.py:870: FutureWarning: The default value of `n_init` will change from 3 to 'auto' in 1.4. Set the value of `n_init` explicitly to suppress the warning\n",
      "  warnings.warn(\n",
      "Clustering:  19%|█████████████▋                                                         | 6/31 [07:38<31:44, 76.17s/it]d:\\Tool\\Anaconda3\\envs\\pytorch\\lib\\site-packages\\sklearn\\cluster\\_kmeans.py:870: FutureWarning: The default value of `n_init` will change from 3 to 'auto' in 1.4. Set the value of `n_init` explicitly to suppress the warning\n",
      "  warnings.warn(\n",
      "Clustering:  23%|████████████████                                                       | 7/31 [08:57<30:49, 77.08s/it]d:\\Tool\\Anaconda3\\envs\\pytorch\\lib\\site-packages\\sklearn\\cluster\\_kmeans.py:870: FutureWarning: The default value of `n_init` will change from 3 to 'auto' in 1.4. Set the value of `n_init` explicitly to suppress the warning\n",
      "  warnings.warn(\n",
      "Clustering:  26%|██████████████████▎                                                    | 8/31 [10:14<29:32, 77.05s/it]d:\\Tool\\Anaconda3\\envs\\pytorch\\lib\\site-packages\\sklearn\\cluster\\_kmeans.py:870: FutureWarning: The default value of `n_init` will change from 3 to 'auto' in 1.4. Set the value of `n_init` explicitly to suppress the warning\n",
      "  warnings.warn(\n",
      "Clustering:  29%|████████████████████▌                                                  | 9/31 [11:29<27:58, 76.31s/it]d:\\Tool\\Anaconda3\\envs\\pytorch\\lib\\site-packages\\sklearn\\cluster\\_kmeans.py:870: FutureWarning: The default value of `n_init` will change from 3 to 'auto' in 1.4. Set the value of `n_init` explicitly to suppress the warning\n",
      "  warnings.warn(\n",
      "Clustering:  32%|██████████████████████▌                                               | 10/31 [12:44<26:32, 75.83s/it]d:\\Tool\\Anaconda3\\envs\\pytorch\\lib\\site-packages\\sklearn\\cluster\\_kmeans.py:870: FutureWarning: The default value of `n_init` will change from 3 to 'auto' in 1.4. Set the value of `n_init` explicitly to suppress the warning\n",
      "  warnings.warn(\n",
      "Clustering:  35%|████████████████████████▊                                             | 11/31 [14:02<25:31, 76.60s/it]d:\\Tool\\Anaconda3\\envs\\pytorch\\lib\\site-packages\\sklearn\\cluster\\_kmeans.py:870: FutureWarning: The default value of `n_init` will change from 3 to 'auto' in 1.4. Set the value of `n_init` explicitly to suppress the warning\n",
      "  warnings.warn(\n",
      "Clustering:  39%|███████████████████████████                                           | 12/31 [15:20<24:23, 77.03s/it]d:\\Tool\\Anaconda3\\envs\\pytorch\\lib\\site-packages\\sklearn\\cluster\\_kmeans.py:870: FutureWarning: The default value of `n_init` will change from 3 to 'auto' in 1.4. Set the value of `n_init` explicitly to suppress the warning\n",
      "  warnings.warn(\n",
      "Clustering:  42%|█████████████████████████████▎                                        | 13/31 [16:39<23:15, 77.53s/it]d:\\Tool\\Anaconda3\\envs\\pytorch\\lib\\site-packages\\sklearn\\cluster\\_kmeans.py:870: FutureWarning: The default value of `n_init` will change from 3 to 'auto' in 1.4. Set the value of `n_init` explicitly to suppress the warning\n",
      "  warnings.warn(\n",
      "Clustering:  45%|███████████████████████████████▌                                      | 14/31 [17:56<21:56, 77.46s/it]d:\\Tool\\Anaconda3\\envs\\pytorch\\lib\\site-packages\\sklearn\\cluster\\_kmeans.py:870: FutureWarning: The default value of `n_init` will change from 3 to 'auto' in 1.4. Set the value of `n_init` explicitly to suppress the warning\n",
      "  warnings.warn(\n",
      "Clustering:  48%|█████████████████████████████████▊                                    | 15/31 [19:12<20:34, 77.17s/it]d:\\Tool\\Anaconda3\\envs\\pytorch\\lib\\site-packages\\sklearn\\cluster\\_kmeans.py:870: FutureWarning: The default value of `n_init` will change from 3 to 'auto' in 1.4. Set the value of `n_init` explicitly to suppress the warning\n",
      "  warnings.warn(\n",
      "Clustering:  52%|████████████████████████████████████▏                                 | 16/31 [20:29<19:15, 77.01s/it]d:\\Tool\\Anaconda3\\envs\\pytorch\\lib\\site-packages\\sklearn\\cluster\\_kmeans.py:870: FutureWarning: The default value of `n_init` will change from 3 to 'auto' in 1.4. Set the value of `n_init` explicitly to suppress the warning\n",
      "  warnings.warn(\n",
      "Clustering:  55%|██████████████████████████████████████▍                               | 17/31 [21:46<17:56, 76.91s/it]d:\\Tool\\Anaconda3\\envs\\pytorch\\lib\\site-packages\\sklearn\\cluster\\_kmeans.py:870: FutureWarning: The default value of `n_init` will change from 3 to 'auto' in 1.4. Set the value of `n_init` explicitly to suppress the warning\n",
      "  warnings.warn(\n",
      "Clustering:  58%|████████████████████████████████████████▋                             | 18/31 [23:02<16:37, 76.72s/it]d:\\Tool\\Anaconda3\\envs\\pytorch\\lib\\site-packages\\sklearn\\cluster\\_kmeans.py:870: FutureWarning: The default value of `n_init` will change from 3 to 'auto' in 1.4. Set the value of `n_init` explicitly to suppress the warning\n",
      "  warnings.warn(\n",
      "Clustering:  61%|██████████████████████████████████████████▉                           | 19/31 [24:18<15:18, 76.58s/it]d:\\Tool\\Anaconda3\\envs\\pytorch\\lib\\site-packages\\sklearn\\cluster\\_kmeans.py:870: FutureWarning: The default value of `n_init` will change from 3 to 'auto' in 1.4. Set the value of `n_init` explicitly to suppress the warning\n",
      "  warnings.warn(\n",
      "Clustering:  65%|█████████████████████████████████████████████▏                        | 20/31 [25:35<14:01, 76.51s/it]d:\\Tool\\Anaconda3\\envs\\pytorch\\lib\\site-packages\\sklearn\\cluster\\_kmeans.py:870: FutureWarning: The default value of `n_init` will change from 3 to 'auto' in 1.4. Set the value of `n_init` explicitly to suppress the warning\n",
      "  warnings.warn(\n",
      "Clustering:  68%|███████████████████████████████████████████████▍                      | 21/31 [26:52<12:46, 76.64s/it]d:\\Tool\\Anaconda3\\envs\\pytorch\\lib\\site-packages\\sklearn\\cluster\\_kmeans.py:870: FutureWarning: The default value of `n_init` will change from 3 to 'auto' in 1.4. Set the value of `n_init` explicitly to suppress the warning\n",
      "  warnings.warn(\n",
      "Clustering:  71%|█████████████████████████████████████████████████▋                    | 22/31 [27:03<08:34, 57.13s/it]d:\\Tool\\Anaconda3\\envs\\pytorch\\lib\\site-packages\\sklearn\\cluster\\_kmeans.py:870: FutureWarning: The default value of `n_init` will change from 3 to 'auto' in 1.4. Set the value of `n_init` explicitly to suppress the warning\n",
      "  warnings.warn(\n"
     ]
    },
    {
     "name": "stderr",
     "output_type": "stream",
     "text": [
      "Clustering:  74%|███████████████████████████████████████████████████▉                  | 23/31 [28:16<08:15, 61.90s/it]d:\\Tool\\Anaconda3\\envs\\pytorch\\lib\\site-packages\\sklearn\\cluster\\_kmeans.py:870: FutureWarning: The default value of `n_init` will change from 3 to 'auto' in 1.4. Set the value of `n_init` explicitly to suppress the warning\n",
      "  warnings.warn(\n",
      "Clustering:  77%|██████████████████████████████████████████████████████▏               | 24/31 [29:25<07:28, 64.03s/it]d:\\Tool\\Anaconda3\\envs\\pytorch\\lib\\site-packages\\sklearn\\cluster\\_kmeans.py:870: FutureWarning: The default value of `n_init` will change from 3 to 'auto' in 1.4. Set the value of `n_init` explicitly to suppress the warning\n",
      "  warnings.warn(\n",
      "Clustering:  81%|████████████████████████████████████████████████████████▍             | 25/31 [30:35<06:35, 65.86s/it]d:\\Tool\\Anaconda3\\envs\\pytorch\\lib\\site-packages\\sklearn\\cluster\\_kmeans.py:870: FutureWarning: The default value of `n_init` will change from 3 to 'auto' in 1.4. Set the value of `n_init` explicitly to suppress the warning\n",
      "  warnings.warn(\n",
      "Clustering:  84%|██████████████████████████████████████████████████████████▋           | 26/31 [31:03<04:31, 54.33s/it]d:\\Tool\\Anaconda3\\envs\\pytorch\\lib\\site-packages\\sklearn\\cluster\\_kmeans.py:870: FutureWarning: The default value of `n_init` will change from 3 to 'auto' in 1.4. Set the value of `n_init` explicitly to suppress the warning\n",
      "  warnings.warn(\n",
      "Clustering:  87%|████████████████████████████████████████████████████████████▉         | 27/31 [32:19<04:03, 60.78s/it]d:\\Tool\\Anaconda3\\envs\\pytorch\\lib\\site-packages\\sklearn\\cluster\\_kmeans.py:870: FutureWarning: The default value of `n_init` will change from 3 to 'auto' in 1.4. Set the value of `n_init` explicitly to suppress the warning\n",
      "  warnings.warn(\n",
      "Clustering:  90%|███████████████████████████████████████████████████████████████▏      | 28/31 [33:36<03:16, 65.60s/it]d:\\Tool\\Anaconda3\\envs\\pytorch\\lib\\site-packages\\sklearn\\cluster\\_kmeans.py:870: FutureWarning: The default value of `n_init` will change from 3 to 'auto' in 1.4. Set the value of `n_init` explicitly to suppress the warning\n",
      "  warnings.warn(\n",
      "Clustering:  94%|█████████████████████████████████████████████████████████████████▍    | 29/31 [34:51<02:17, 68.70s/it]d:\\Tool\\Anaconda3\\envs\\pytorch\\lib\\site-packages\\sklearn\\cluster\\_kmeans.py:870: FutureWarning: The default value of `n_init` will change from 3 to 'auto' in 1.4. Set the value of `n_init` explicitly to suppress the warning\n",
      "  warnings.warn(\n",
      "Clustering:  97%|███████████████████████████████████████████████████████████████████▋  | 30/31 [36:05<01:10, 70.11s/it]d:\\Tool\\Anaconda3\\envs\\pytorch\\lib\\site-packages\\sklearn\\cluster\\_kmeans.py:870: FutureWarning: The default value of `n_init` will change from 3 to 'auto' in 1.4. Set the value of `n_init` explicitly to suppress the warning\n",
      "  warnings.warn(\n",
      "Clustering: 100%|██████████████████████████████████████████████████████████████████████| 31/31 [37:19<00:00, 72.24s/it]\n"
     ]
    }
   ],
   "source": [
    "from mteb import MTEB \n",
    "from sentence_transformers import SentenceTransformer\n",
    "# Define the sentence-transformers model name\n",
    "model_name = \"all-MiniLM-L12-v2\" \n",
    "\n",
    "model = SentenceTransformer(model_name)\n",
    "evaluation = MTEB(tasks=[\"ArxivClusteringP2P\"])  \n",
    "results = evaluation.run(model, output_folder=f\"results/{model_name}\")"
   ]
  },
  {
   "cell_type": "code",
   "execution_count": 2,
   "id": "a4dd767d",
   "metadata": {},
   "outputs": [
    {
     "name": "stdout",
     "output_type": "stream",
     "text": [
      "{'ArxivClusteringP2P': {'mteb_version': '1.0.1', 'dataset_revision': 'a122ad7f3f0291bf49cc6f4d32aa80929df69d5d', 'mteb_dataset_name': 'ArxivClusteringP2P', 'test': {'v_measure': 0.46017489459108635, 'v_measure_std': 0.14199305346551475, 'evaluation_time': 2239.57}}}\n"
     ]
    }
   ],
   "source": [
    "print(results)\n"
   ]
  },
  {
   "cell_type": "code",
   "execution_count": 12,
   "id": "f78a8173",
   "metadata": {},
   "outputs": [],
   "source": [
    "#以上，准确率为v_measure': 0.46017489459108635。\n"
   ]
  },
  {
   "cell_type": "code",
   "execution_count": null,
   "id": "794d2304",
   "metadata": {},
   "outputs": [],
   "source": [
    "#以下，探究SentenceTransformer的使用方法。"
   ]
  },
  {
   "cell_type": "code",
   "execution_count": 6,
   "id": "6a96c93b",
   "metadata": {},
   "outputs": [
    {
     "name": "stdout",
     "output_type": "stream",
     "text": [
      "Sentence: This framework generates embeddings for each input sentence\n",
      "Embedding: [-1.37173738e-02 -4.28515710e-02 -1.56286210e-02  1.40537331e-02\n",
      "  3.95537540e-02  1.21796280e-01  2.94333920e-02 -3.17523815e-02\n",
      "  3.54959927e-02 -7.93140158e-02  1.75878387e-02 -4.04369682e-02\n",
      "  4.97259796e-02  2.54912693e-02 -7.18699843e-02  8.14968273e-02\n",
      "  1.47071865e-03  4.79627289e-02 -4.50335927e-02 -9.92175043e-02\n",
      " -2.81769447e-02  6.45045787e-02  4.44670729e-02 -4.76217344e-02\n",
      " -3.52952629e-02  4.38671783e-02 -5.28565831e-02  4.33023000e-04\n",
      "  1.01921484e-01  1.64072309e-02  3.26996930e-02 -3.45986970e-02\n",
      "  1.21339457e-02  7.94871226e-02  4.58339229e-03  1.57778542e-02\n",
      " -9.68204532e-03  2.87626497e-02 -5.05806431e-02 -1.55793913e-02\n",
      " -2.87907254e-02 -9.62279271e-03  3.15556638e-02  2.27349624e-02\n",
      "  8.71449560e-02 -3.85027453e-02 -8.84718671e-02 -8.75494257e-03\n",
      " -2.12343391e-02  2.08924189e-02 -9.02078003e-02 -5.25732450e-02\n",
      " -1.05638644e-02  2.88311131e-02 -1.61454547e-02  6.17839023e-03\n",
      " -1.23234531e-02 -1.07337302e-02  2.83353478e-02 -5.28568029e-02\n",
      " -3.58617865e-02 -5.97989410e-02 -1.09054986e-02  2.91566458e-02\n",
      "  7.97979012e-02 -3.27875518e-04  6.83498476e-03  1.32718626e-02\n",
      " -4.24619652e-02  1.87656637e-02 -9.89234671e-02  2.09050085e-02\n",
      " -8.69606063e-02 -1.50152193e-02 -4.86202277e-02  8.04414749e-02\n",
      " -3.67699447e-03 -6.65044188e-02  1.14556760e-01 -3.04228533e-02\n",
      "  2.96631809e-02 -2.80694831e-02  4.64990586e-02 -2.25513447e-02\n",
      "  8.54223073e-02  3.15446705e-02  7.34542161e-02 -2.21861620e-02\n",
      " -5.29679246e-02  1.27130346e-02 -5.27339689e-02 -1.06188722e-01\n",
      "  7.04731420e-02  2.76736375e-02 -8.05531368e-02  2.39649564e-02\n",
      " -2.65125092e-02 -2.17331275e-02  4.35275547e-02  4.84711863e-02\n",
      " -2.37066951e-02  2.85768397e-02  1.11846142e-01 -6.34935871e-02\n",
      " -1.58318393e-02 -2.26169676e-02 -1.31028220e-02 -1.62069581e-03\n",
      " -3.60929146e-02 -9.78296995e-02 -4.67729270e-02  1.76271945e-02\n",
      " -3.97492312e-02 -1.76414513e-04  3.39627936e-02 -2.09633932e-02\n",
      "  6.33658469e-03 -2.59411559e-02  8.10410604e-02  6.14393465e-02\n",
      " -5.44598280e-03  6.48276210e-02 -1.16844073e-01  2.36861147e-02\n",
      " -1.32058542e-02 -1.12476423e-01  1.90049391e-02 -1.74661115e-34\n",
      "  5.58949597e-02  1.94244590e-02  4.65438776e-02  5.18645905e-02\n",
      "  3.89390178e-02  3.40540893e-02 -4.32114229e-02  7.90637434e-02\n",
      " -9.79530066e-02 -1.27441259e-02 -2.91871037e-02  1.02052568e-02\n",
      "  1.88115817e-02  1.08942553e-01  6.63465261e-02 -5.35295308e-02\n",
      " -3.29229049e-02  4.69826907e-02  2.28882991e-02  2.74114516e-02\n",
      " -2.91983373e-02  3.12706344e-02 -2.22850647e-02 -1.02282166e-01\n",
      " -2.79116463e-02  1.13793025e-02  9.06309038e-02 -4.75414693e-02\n",
      " -1.00718960e-01 -1.23232147e-02 -7.96928331e-02 -1.44636659e-02\n",
      " -7.76400864e-02 -7.66921183e-03  9.73957125e-03  2.24204864e-02\n",
      "  7.77267739e-02 -3.17156152e-03  2.11538374e-02 -3.30393948e-02\n",
      "  9.55246575e-03 -3.73012312e-02  2.61360314e-02 -9.79082845e-03\n",
      " -6.31505176e-02  5.77434059e-03 -3.80031206e-02  1.29684042e-02\n",
      " -1.82498936e-02 -1.56283081e-02 -1.23359729e-03  5.55579141e-02\n",
      "  1.13118578e-04 -5.61257005e-02  7.40165636e-02  1.84451956e-02\n",
      " -2.66368203e-02  1.31951533e-02  7.50086755e-02 -2.46797632e-02\n",
      " -3.24006267e-02 -1.57675017e-02 -8.03516153e-03 -5.61319990e-03\n",
      "  1.05687445e-02  3.26166674e-03 -3.91990095e-02 -9.38677117e-02\n",
      "  1.14227146e-01  6.57304972e-02 -4.72633392e-02  1.45087922e-02\n",
      " -3.54490392e-02 -3.37761603e-02 -5.15506305e-02 -3.80995194e-03\n",
      " -5.15036359e-02 -5.93429543e-02 -1.69413304e-03  7.42107630e-02\n",
      " -4.20091413e-02 -7.19975308e-02  3.17249894e-02 -1.66303515e-02\n",
      "  3.96983698e-03 -6.52750880e-02  2.77391318e-02 -7.51649737e-02\n",
      "  2.27456447e-02 -3.91368382e-02  1.54315913e-02 -5.54908402e-02\n",
      "  1.23318583e-02 -2.59520691e-02  6.66423440e-02 -6.91258361e-34\n",
      "  3.31628732e-02  8.47928971e-02 -6.65584356e-02  3.33541408e-02\n",
      "  4.71607596e-03  1.35361766e-02 -5.38694449e-02  9.20693949e-02\n",
      " -2.96876878e-02  3.16219628e-02 -2.37497445e-02  1.98771264e-02\n",
      "  1.03446193e-01 -9.06947404e-02  6.30629528e-03  1.42886396e-02\n",
      "  1.19293686e-02  6.43730443e-03  4.20104563e-02  1.25344535e-02\n",
      "  3.93019319e-02  5.35691381e-02 -4.30749729e-02  6.10432401e-02\n",
      " -5.39470057e-05  6.91682845e-02  1.05520468e-02  1.22111570e-02\n",
      " -7.23185614e-02  2.50469316e-02 -5.18370792e-02 -4.36562411e-02\n",
      " -6.71818107e-02  1.34828035e-02 -7.25888684e-02  7.04162288e-03\n",
      "  6.58939257e-02  1.08993994e-02 -2.60008313e-03  5.49968928e-02\n",
      "  5.06966673e-02  3.27948295e-02 -6.68832958e-02  6.45557195e-02\n",
      " -2.52076387e-02 -2.92571876e-02 -1.16696715e-01  3.24064307e-02\n",
      "  5.85858561e-02 -3.51756476e-02 -7.15239868e-02  2.24936083e-02\n",
      " -1.00786731e-01 -4.74544987e-02 -7.61962458e-02 -5.87166697e-02\n",
      "  4.21138294e-02 -7.47213736e-02  1.98468138e-02 -3.36502842e-03\n",
      " -5.29736690e-02  2.74729170e-02  3.45736854e-02 -6.11846521e-02\n",
      "  1.06364764e-01 -9.64120030e-02 -4.55944985e-02  1.51489777e-02\n",
      " -5.13533317e-03 -6.64447546e-02  4.31721397e-02 -1.10405572e-02\n",
      " -9.80252307e-03  7.53783137e-02 -1.49571085e-02 -4.80208695e-02\n",
      "  5.80726489e-02 -2.43896823e-02 -2.23138314e-02 -4.36992608e-02\n",
      "  5.12054376e-02 -3.28625850e-02  1.08763315e-01  6.08926155e-02\n",
      "  3.30790598e-03  5.53819947e-02  8.43200758e-02  1.27087170e-02\n",
      "  3.84465754e-02  6.52325749e-02 -2.94684041e-02  5.08005582e-02\n",
      " -2.09348276e-02  1.46135673e-01  2.25561596e-02 -1.77227744e-08\n",
      " -5.02672829e-02 -2.79204512e-04 -1.00328557e-01  2.42811404e-02\n",
      " -7.54043311e-02 -3.79139967e-02  3.96049693e-02  3.10079772e-02\n",
      " -9.05702822e-03 -6.50411993e-02  4.05453406e-02  4.83390354e-02\n",
      " -4.56962362e-02  4.76004602e-03  2.64364434e-03  9.35614184e-02\n",
      " -4.02598977e-02  3.27401571e-02  1.18298503e-02  5.54344729e-02\n",
      "  1.48052216e-01  7.21189231e-02  2.76976236e-04  1.68651268e-02\n",
      "  8.34881701e-03 -8.76153726e-03 -1.33649725e-02  6.14236593e-02\n",
      "  1.57168005e-02  6.94961026e-02  1.08621791e-02  6.08018637e-02\n",
      " -5.33421114e-02 -3.47924568e-02 -3.36271934e-02  6.93906993e-02\n",
      "  1.22987973e-02 -1.45237327e-01 -2.06970936e-03 -4.61133160e-02\n",
      "  3.72747192e-03 -5.59354387e-03 -1.00659862e-01 -4.45953049e-02\n",
      "  5.40921316e-02  4.98894975e-03  1.49534512e-02 -8.26059431e-02\n",
      "  6.26630560e-02 -5.01909945e-03 -4.81857695e-02 -3.53991054e-02\n",
      "  9.03388206e-03 -2.42337361e-02  5.66267334e-02  2.51529068e-02\n",
      " -1.70709528e-02 -1.24780135e-02  3.19518223e-02  1.38421068e-02\n",
      " -1.55814877e-02  1.00178301e-01  1.23657249e-01 -4.22967114e-02]\n",
      "<class 'numpy.ndarray'>\n",
      "1\n",
      "384\n",
      "++++++++++++++++++++++++++++++++++++++++++++++++++++++++++++++++++++++++++++++++++++++++++++++++++\n",
      "Sentence: Sentences are passed as a list of string.\n",
      "Embedding: [ 5.64524680e-02  5.50023802e-02  3.13795842e-02  3.39484885e-02\n",
      " -3.54246907e-02  8.34667534e-02  9.88800749e-02  7.27544120e-03\n",
      " -6.68657105e-03 -7.65809184e-03  7.93738365e-02  7.39686075e-04\n",
      "  1.49291838e-02 -1.51046962e-02  3.67674530e-02  4.78743277e-02\n",
      " -4.81969528e-02 -3.76052223e-02 -4.60278168e-02 -8.89816135e-02\n",
      "  1.20228142e-01  1.30663291e-01 -3.73936221e-02  2.47855950e-03\n",
      "  2.55826022e-03  7.25814775e-02 -6.80436417e-02 -5.24695963e-02\n",
      "  4.90234308e-02  2.99563371e-02 -5.84429502e-02 -2.02263016e-02\n",
      "  2.08822135e-02  9.76691991e-02  3.52390483e-02  3.91141325e-02\n",
      "  1.05668185e-02  1.56231585e-03 -1.30822789e-02  8.52902792e-03\n",
      " -4.84091928e-03 -2.03766488e-02 -2.71801054e-02  2.83307601e-02\n",
      "  3.66017595e-02  2.51276381e-02 -9.90861952e-02  1.15626482e-02\n",
      " -3.60380523e-02 -7.23783970e-02 -1.12670109e-01  1.12942224e-02\n",
      " -3.86397429e-02  4.67386097e-02 -2.88460478e-02  2.26703845e-02\n",
      " -8.52403790e-03  3.32815237e-02 -1.06582767e-03 -7.09744915e-02\n",
      " -6.31169975e-02 -5.72186820e-02 -6.16026409e-02  5.47146387e-02\n",
      "  1.18317641e-02 -4.66261245e-02  2.56960150e-02 -7.07412744e-03\n",
      " -5.73843196e-02  4.12839353e-02 -5.91504015e-02  5.89021556e-02\n",
      " -4.41697463e-02  4.65081520e-02 -3.15814652e-02  5.58312200e-02\n",
      "  5.54578975e-02 -5.96533194e-02  4.06407602e-02  4.83761681e-03\n",
      " -4.96768206e-02 -1.00944348e-01  3.40078250e-02  4.13273880e-03\n",
      " -2.93528102e-03  2.11837813e-02 -3.73962261e-02 -2.79067289e-02\n",
      " -4.61767614e-02  5.26138693e-02 -2.79734693e-02 -1.62379310e-01\n",
      "  6.61042705e-02  1.72274485e-02 -5.45112230e-03  4.74474058e-02\n",
      " -3.82237509e-02 -3.96896638e-02  1.34544913e-02  4.49654013e-02\n",
      "  4.53672092e-03  2.82978714e-02  8.36633295e-02 -1.00858081e-02\n",
      " -1.19354017e-01 -3.84624600e-02  4.82858643e-02 -9.46083441e-02\n",
      "  1.91854313e-02 -9.96518433e-02 -6.30596578e-02  3.02696042e-02\n",
      "  1.17402384e-02 -4.78372723e-02 -6.20271172e-03 -3.32850814e-02\n",
      " -4.04392881e-03  1.28307110e-02  4.05254848e-02  7.56476745e-02\n",
      "  2.92434841e-02  2.84270309e-02 -2.78938282e-02  1.66858155e-02\n",
      " -2.47961655e-02 -6.83650970e-02  2.89968215e-02 -5.39867748e-33\n",
      " -2.69011664e-03 -2.65068971e-02 -6.47914596e-04 -8.46198946e-03\n",
      " -7.35154673e-02  4.94084554e-03 -5.97842000e-02  1.03438022e-02\n",
      "  2.12902599e-03 -2.88213207e-03 -3.17076743e-02 -9.42363739e-02\n",
      "  3.03019546e-02  7.00226873e-02  4.50685322e-02  3.69439125e-02\n",
      "  1.13593861e-02  3.53027135e-02  5.50450338e-03  1.34415179e-03\n",
      "  3.46122868e-03  7.75047988e-02  5.45112640e-02 -7.92055652e-02\n",
      " -9.31696668e-02 -4.03398424e-02  3.10668945e-02 -3.83082107e-02\n",
      " -5.89442514e-02  1.93332043e-02 -2.67160032e-02 -7.91938454e-02\n",
      "  1.04233455e-04  7.70621225e-02  4.16603573e-02  8.90932456e-02\n",
      "  3.56843174e-02 -1.09152924e-02  3.71498726e-02 -2.07070261e-02\n",
      " -2.46100929e-02 -2.05025300e-02  2.62201615e-02  3.43590081e-02\n",
      "  4.39250879e-02 -8.20517167e-03 -8.40710625e-02  4.24171053e-02\n",
      "  4.87498455e-02  5.95384575e-02  2.87747644e-02  3.37638296e-02\n",
      " -4.07442711e-02 -1.66371546e-03  7.91927725e-02  3.41088586e-02\n",
      " -5.72835212e-04  1.87749807e-02 -1.36964275e-02  7.38332793e-02\n",
      "  5.74457634e-04  8.33505169e-02  5.60810827e-02 -1.13711059e-02\n",
      "  4.42610979e-02  2.69581880e-02 -4.80536111e-02 -3.15087251e-02\n",
      "  7.75226131e-02  1.81773435e-02 -8.83005336e-02 -7.85518717e-03\n",
      " -6.22243024e-02  7.19372630e-02 -2.33474895e-02  6.52479939e-03\n",
      " -9.49527510e-03 -9.88312736e-02  4.01306301e-02  3.07396799e-02\n",
      " -2.21607164e-02 -9.45910886e-02  1.02367960e-02  1.02187738e-01\n",
      " -4.12960052e-02 -3.15778069e-02  4.74751703e-02 -1.10209838e-01\n",
      "  1.69614423e-02 -3.71709466e-02 -1.03261843e-02 -4.72538471e-02\n",
      " -1.20214149e-02 -1.93255320e-02  5.79292215e-02  4.23866595e-34\n",
      "  3.92013043e-02  8.41361359e-02 -1.02946714e-01  6.92259818e-02\n",
      "  1.68820880e-02 -3.26760858e-02  9.65960231e-03  1.80899817e-02\n",
      "  2.17939634e-02  1.63188837e-02 -9.69292521e-02  3.74852819e-03\n",
      " -2.38457192e-02 -3.44056003e-02  7.11962730e-02  9.21913947e-04\n",
      " -6.23860583e-03  3.23754326e-02 -8.90395837e-04  5.01905056e-03\n",
      " -4.24537770e-02  9.89083797e-02 -4.60320823e-02  4.69704606e-02\n",
      " -1.75283812e-02 -7.02519156e-03  1.32743726e-02 -5.30151911e-02\n",
      "  2.66405637e-03  1.45819271e-02  7.43344612e-03 -3.07131689e-02\n",
      " -2.09416784e-02  8.24110135e-02 -5.15894257e-02 -2.71178354e-02\n",
      "  1.17582999e-01  7.72505300e-03 -1.89523213e-02  3.94559391e-02\n",
      "  7.17360377e-02  2.59117018e-02  2.75192019e-02  9.50544886e-03\n",
      " -3.02355457e-02 -4.07944545e-02 -1.04028493e-01 -7.97419064e-03\n",
      " -3.64456745e-03  3.29715945e-02 -2.35954504e-02 -7.50519615e-03\n",
      " -5.82233928e-02 -3.17906253e-02 -4.18049134e-02  2.17453223e-02\n",
      " -6.67292178e-02 -4.89104167e-02  4.58514504e-03 -2.66046692e-02\n",
      " -1.12597041e-01  5.11167049e-02  5.48534170e-02 -6.69856593e-02\n",
      "  1.26766264e-01 -8.59487429e-02 -5.94231635e-02 -2.92190118e-03\n",
      " -1.14875352e-02 -1.26025841e-01 -3.48277926e-03 -9.12001878e-02\n",
      " -1.22933082e-01  1.33777251e-02 -4.75775488e-02 -6.57932982e-02\n",
      " -3.39409970e-02 -3.07107978e-02 -5.22034056e-02 -2.35463791e-02\n",
      "  5.90035245e-02 -3.85757722e-02  3.19701061e-02  4.05118726e-02\n",
      "  1.67077649e-02 -3.58281136e-02  1.45687973e-02  3.20138335e-02\n",
      " -1.34844044e-02  6.07819706e-02 -8.31399672e-03 -1.08105717e-02\n",
      "  4.69410606e-02  7.66134411e-02 -4.23400104e-02 -2.11963318e-08\n",
      " -7.25292638e-02 -4.20227833e-02 -6.12374544e-02  5.24665974e-02\n",
      " -1.42363720e-02  1.18487021e-02 -1.40788695e-02 -3.67530212e-02\n",
      " -4.44977358e-02 -1.15140714e-02  5.23316972e-02  2.96652168e-02\n",
      " -4.62780595e-02 -3.70892882e-02  1.89129580e-02  2.04307511e-02\n",
      " -2.24006120e-02 -1.48562696e-02 -1.79504082e-02  4.20007929e-02\n",
      "  1.40942251e-02 -2.83492338e-02 -1.16863012e-01  1.48956738e-02\n",
      " -7.30598695e-04  5.66028282e-02 -2.68740188e-02  1.09106690e-01\n",
      "  2.94565898e-03  1.19267926e-01  1.14212409e-01  8.92973691e-02\n",
      " -1.70255192e-02 -4.99054044e-02 -2.11930908e-02  3.18421200e-02\n",
      "  7.03435987e-02 -1.02929428e-01  8.23816732e-02  2.81968080e-02\n",
      "  3.21146511e-02  3.79107855e-02 -1.09553099e-01  8.19620118e-02\n",
      "  8.73216391e-02 -5.73563576e-02 -2.01708507e-02 -5.69443963e-02\n",
      " -1.30338436e-02 -5.55684417e-02 -1.32966368e-02  8.64013098e-03\n",
      "  5.30012101e-02 -4.06847112e-02  2.71709003e-02 -2.55945628e-03\n",
      "  3.05775534e-02 -4.61865254e-02  4.68032761e-03 -3.64947058e-02\n",
      "  6.80802166e-02  6.65087551e-02  8.49152282e-02 -3.32849361e-02]\n",
      "<class 'numpy.ndarray'>\n",
      "1\n",
      "384\n",
      "++++++++++++++++++++++++++++++++++++++++++++++++++++++++++++++++++++++++++++++++++++++++++++++++++\n",
      "Sentence: The quick brown fox jumps over the lazy dog.\n",
      "Embedding: [ 4.39335555e-02  5.89343794e-02  4.81783934e-02  7.75480941e-02\n",
      "  2.67444197e-02 -3.76296043e-02 -2.60509853e-03 -5.99430725e-02\n",
      " -2.49603298e-03  2.20728274e-02  4.80259694e-02  5.57552762e-02\n",
      " -3.89454179e-02 -2.66168322e-02  7.69342016e-03 -2.62376219e-02\n",
      " -3.64160351e-02 -3.78161334e-02  7.40781501e-02 -4.95050550e-02\n",
      " -5.85217029e-02 -6.36197031e-02  3.24350409e-02  2.20085271e-02\n",
      " -7.10637569e-02 -3.31578031e-02 -6.94104135e-02 -5.00374176e-02\n",
      "  7.46268108e-02 -1.11133792e-01 -1.23063149e-02  3.77456173e-02\n",
      " -2.80313119e-02  1.45353423e-02 -3.15585174e-02 -8.05836767e-02\n",
      "  5.83525859e-02  2.59010005e-03  3.92802320e-02  2.57695727e-02\n",
      "  4.98505719e-02 -1.75624969e-03 -4.55298163e-02  2.92607900e-02\n",
      " -1.02017254e-01  5.22287339e-02 -7.90900066e-02 -1.02857649e-02\n",
      "  9.20247287e-03  1.30732385e-02 -4.04777899e-02 -2.77925171e-02\n",
      "  1.24667212e-02  6.72833025e-02  6.81248233e-02 -7.57120643e-03\n",
      " -6.09947275e-03 -4.23776992e-02  5.17816283e-02 -1.56707261e-02\n",
      "  9.56355594e-03  4.12390232e-02  2.14959159e-02  1.04293330e-02\n",
      "  2.73349732e-02  1.87062938e-02 -2.69607212e-02 -7.00541884e-02\n",
      " -1.04700483e-01 -1.89877918e-03  1.77017432e-02 -5.74725568e-02\n",
      " -1.44222984e-02  4.70493862e-04  2.33226502e-03 -2.51920167e-02\n",
      "  4.93003838e-02 -5.09609766e-02  6.31982833e-02  1.49165178e-02\n",
      " -2.70766821e-02 -4.52875718e-02 -4.90594059e-02  3.74940820e-02\n",
      "  3.84579524e-02  1.56899204e-03  3.09922434e-02  2.01629885e-02\n",
      " -1.24363322e-02 -3.06720156e-02 -2.78819185e-02 -6.89182952e-02\n",
      " -5.13677225e-02  2.14795507e-02  1.15747275e-02  1.25406682e-03\n",
      "  1.88765954e-02 -4.42318581e-02 -4.49817143e-02 -3.41869122e-03\n",
      "  1.31131355e-02  2.00099479e-02  1.21099770e-01  2.31074616e-02\n",
      " -2.20160000e-02 -3.28846835e-02 -3.15513508e-03  1.17829069e-04\n",
      "  9.91498753e-02  1.65238641e-02 -4.69671795e-03 -1.45366527e-02\n",
      " -3.71073885e-03  9.65135917e-02  2.85908449e-02  2.13481691e-02\n",
      " -7.17644840e-02 -2.41141990e-02 -4.40940447e-02 -1.07346885e-01\n",
      "  6.79945573e-02  1.30466804e-01 -7.97029659e-02  6.79506082e-03\n",
      " -2.37512123e-02 -4.61636521e-02 -2.99650133e-02 -3.69410047e-33\n",
      "  7.30970129e-02 -2.20172014e-02 -8.61464515e-02 -7.14379549e-02\n",
      " -6.36741370e-02 -7.21863136e-02 -5.93042234e-03 -2.33641826e-02\n",
      " -2.83658095e-02  4.77434844e-02 -8.06176662e-02 -1.56481343e-03\n",
      "  1.38443876e-02 -2.86236163e-02 -3.35387178e-02 -1.13777533e-01\n",
      " -9.17633902e-03 -1.08101238e-02  3.23196165e-02  5.88380657e-02\n",
      "  3.34208794e-02  1.07987963e-01 -3.72713059e-02 -2.96770688e-02\n",
      "  5.17189689e-02 -2.25338768e-02 -6.96090981e-02 -2.14475337e-02\n",
      " -2.33410746e-02  4.82199937e-02 -3.58766429e-02 -4.68991101e-02\n",
      " -3.97873521e-02  1.10813245e-01 -1.43007319e-02 -1.18464492e-01\n",
      "  5.82915060e-02 -6.25889227e-02 -2.94040833e-02  6.03238121e-02\n",
      " -2.44415412e-03  1.60116311e-02  2.67233215e-02  2.49530654e-02\n",
      " -6.49318770e-02 -1.06802573e-02  2.81464793e-02  1.03563452e-02\n",
      " -6.63581304e-04  1.98186394e-02 -3.04288361e-02  6.28420059e-03\n",
      "  5.15268296e-02 -4.75375131e-02 -6.44421503e-02  9.55031812e-02\n",
      "  7.55858570e-02 -2.81574633e-02 -3.49965654e-02  1.01816408e-01\n",
      "  1.98732223e-02 -3.68036702e-02  2.93522212e-03 -5.00745252e-02\n",
      "  1.50932133e-01 -6.16079532e-02 -8.58813077e-02  7.13991048e-03\n",
      " -1.33065898e-02  7.80404657e-02  1.75250769e-02  4.21279483e-02\n",
      "  3.57939787e-02 -1.32950425e-01  3.56970280e-02 -2.03116871e-02\n",
      "  1.24910241e-02 -3.80355045e-02  4.91543673e-02 -1.56540982e-02\n",
      "  1.21418215e-01 -8.08644742e-02 -4.68782112e-02  4.10842970e-02\n",
      " -1.84318423e-02  6.69691414e-02  4.33594501e-03  2.27315500e-02\n",
      " -1.36429155e-02 -4.53238636e-02 -3.92829627e-02 -6.29893038e-03\n",
      "  5.29609509e-02 -3.69065106e-02  7.11677074e-02  2.33343324e-33\n",
      "  1.05231397e-01 -4.81874086e-02  6.95919171e-02  6.56976402e-02\n",
      " -4.65149656e-02  5.14492281e-02 -1.24475220e-02  3.20871919e-02\n",
      " -9.23356339e-02  5.00932708e-02 -3.28876413e-02  1.39139174e-02\n",
      " -8.70198419e-04 -4.90905624e-03  1.03946418e-01  3.21649044e-04\n",
      "  5.28110117e-02 -1.17990300e-02  2.31565125e-02  1.31767755e-02\n",
      " -5.25963269e-02  3.26702185e-02  3.08718620e-04  6.41129017e-02\n",
      "  3.88500802e-02  5.88008501e-02  8.29793140e-02 -1.88149456e-02\n",
      " -2.26376895e-02 -1.00473650e-01 -3.83752286e-02 -5.88081032e-02\n",
      "  1.82419107e-03 -4.26995233e-02  2.50195246e-02  6.40059859e-02\n",
      " -3.77482772e-02 -6.83901319e-03 -2.54604314e-03 -9.76042598e-02\n",
      "  1.88475922e-02 -8.83182220e-04  1.73611790e-02  7.10790306e-02\n",
      "  3.30393054e-02  6.93429867e-03 -5.60523495e-02  5.14633991e-02\n",
      " -4.29542251e-02  4.60076891e-02 -8.78832955e-03  3.17289345e-02\n",
      "  4.93965410e-02  2.95189954e-02 -5.05192503e-02 -5.43187112e-02\n",
      "  1.49976884e-04 -2.76614893e-02  3.46877910e-02 -2.10890211e-02\n",
      "  1.38060218e-02  2.99886540e-02  1.39745381e-02 -4.26471932e-03\n",
      " -1.50337005e-02 -8.76094997e-02 -6.85053617e-02 -4.28141654e-02\n",
      "  7.76945278e-02 -7.10285380e-02 -7.37693394e-03  2.13727374e-02\n",
      "  1.35562457e-02 -7.90464953e-02  5.47666941e-03  8.30663815e-02\n",
      "  1.14148051e-01  1.80767372e-03  8.75491202e-02 -4.16044891e-02\n",
      "  1.55416466e-02 -1.01206396e-02 -7.32436869e-03  1.07965488e-02\n",
      " -6.62816912e-02  3.98413762e-02 -1.16711535e-01  6.42993748e-02\n",
      "  4.02920097e-02 -6.54741526e-02  1.95052251e-02  8.09995458e-02\n",
      "  5.36463298e-02  7.67969862e-02 -1.34852408e-02 -1.76919048e-08\n",
      " -4.43935134e-02  9.20643937e-03 -8.79589915e-02  4.26921770e-02\n",
      "  7.31365159e-02  1.68427136e-02 -4.03263085e-02  1.85131431e-02\n",
      "  8.44172612e-02 -3.74477059e-02  3.02996393e-02  2.90641896e-02\n",
      "  6.36878535e-02  2.89749950e-02 -1.47269908e-02  1.77542362e-02\n",
      " -3.36894803e-02  1.73161421e-02  3.37875374e-02  1.76826075e-01\n",
      " -1.75533332e-02 -6.03077896e-02 -1.43394368e-02 -2.38536540e-02\n",
      " -4.45530601e-02 -2.89850123e-02 -8.96776170e-02 -1.75939128e-03\n",
      " -2.61485986e-02  5.93995024e-03 -5.18355258e-02  8.57279748e-02\n",
      " -8.18398818e-02  8.35441425e-03  4.00790274e-02  4.17764336e-02\n",
      "  1.04573533e-01 -2.86562764e-03  1.96690615e-02  5.81050012e-03\n",
      "  1.33253308e-02  4.51000668e-02 -2.17588451e-02 -1.39493030e-02\n",
      " -6.86992183e-02 -2.94112461e-03 -3.10765095e-02 -1.05854385e-01\n",
      "  6.91623613e-02 -4.24114652e-02 -4.67682295e-02 -3.64751108e-02\n",
      "  4.50400114e-02  6.09817095e-02 -6.56561777e-02 -5.45642572e-03\n",
      " -1.86226871e-02 -6.31484315e-02 -3.87437083e-02  3.46733704e-02\n",
      "  5.55458143e-02  5.21628261e-02  5.61064892e-02  1.02063924e-01]\n",
      "<class 'numpy.ndarray'>\n",
      "1\n",
      "384\n",
      "++++++++++++++++++++++++++++++++++++++++++++++++++++++++++++++++++++++++++++++++++++++++++++++++++\n"
     ]
    }
   ],
   "source": [
    "#SentenceTransformer 的官方示例，重点掌握embedding的输出内容是一个一维向量。\n",
    "from sentence_transformers import SentenceTransformer \n",
    "model = SentenceTransformer('all-MiniLM-L6-v2')  \n",
    "#Our sentences we like to encode （三个句子）\n",
    "sentences = ['This framework generates embeddings for each input sentence',     'Sentences are passed as a list of string.',     'The quick brown fox jumps over the lazy dog.'] \n",
    "#Sentences are encoded by calling model.encode() 句子被model.encode()这个语句编码\n",
    "embeddings = model.encode(sentences)\n",
    "#Print the embeddings \n",
    "#zip函数将产生一一对应的一个新元组（对象），一般用于组合两个长度相同的数据，若长度不同，则取最短的长度，多的丢掉\n",
    "for sentence, embedding in zip(sentences, embeddings):    \n",
    "    print(\"Sentence:\", sentence)     \n",
    "    print(\"Embedding:\", embedding)\n",
    "    print(type(embedding))\n",
    "    print(embedding.ndim)\n",
    "    print(embedding.size)\n",
    "    print(\"++++++++++++++++++++++++++++++++++++++++++++++++++++++++++++++++++++++++++++++++++++++++++++++++++\")"
   ]
  },
  {
   "cell_type": "code",
   "execution_count": 5,
   "id": "5291ccab",
   "metadata": {},
   "outputs": [
    {
     "name": "stdout",
     "output_type": "stream",
     "text": [
      "<class 'numpy.ndarray'>\n",
      "1\n",
      "384\n"
     ]
    }
   ],
   "source": [
    "#embedding 是一个numpy.ndarray 类型的向量，其维度是1维\n",
    "print(type(embedding))\n",
    "print(embedding.ndim)\n",
    "print(embedding.size)"
   ]
  },
  {
   "cell_type": "code",
   "execution_count": null,
   "id": "9c74bfcc",
   "metadata": {},
   "outputs": [],
   "source": []
  }
 ],
 "metadata": {
  "kernelspec": {
   "display_name": "Python [conda env:pytorch] *",
   "language": "python",
   "name": "conda-env-pytorch-py"
  },
  "language_info": {
   "codemirror_mode": {
    "name": "ipython",
    "version": 3
   },
   "file_extension": ".py",
   "mimetype": "text/x-python",
   "name": "python",
   "nbconvert_exporter": "python",
   "pygments_lexer": "ipython3",
   "version": "3.9.15"
  }
 },
 "nbformat": 4,
 "nbformat_minor": 5
}
