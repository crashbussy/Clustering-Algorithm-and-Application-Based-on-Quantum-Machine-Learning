{
 "cells": [
  {
   "cell_type": "code",
   "execution_count": 1,
   "id": "0f6376c1",
   "metadata": {},
   "outputs": [
    {
     "name": "stderr",
     "output_type": "stream",
     "text": [
      "d:\\Tool\\Anaconda3\\envs\\pytorch\\lib\\site-packages\\sklearn\\cluster\\_kmeans.py:870: FutureWarning: The default value of `n_init` will change from 3 to 'auto' in 1.4. Set the value of `n_init` explicitly to suppress the warning\n",
      "  warnings.warn(\n"
     ]
    }
   ],
   "source": [
    "import numpy as np  \n",
    "from mteb.evaluation.evaluators import ClusteringEvaluator\n",
    "from sentence_transformers import SentenceTransformer    \n",
    "model = SentenceTransformer('all-MiniLM-L6-v2') \n",
    "sentences = [\"dog walked home\", \"cat walked home\", \"robot walked to the park\"]  \n",
    "clusterer = ClusteringEvaluator(sentences=sentences, labels=[1, 2, 3])        \n",
    "result = clusterer(model)"
   ]
  },
  {
   "cell_type": "code",
   "execution_count": 2,
   "id": "52269bde",
   "metadata": {},
   "outputs": [
    {
     "name": "stdout",
     "output_type": "stream",
     "text": [
      "{'v_measure': 0.7336804366512111}\n"
     ]
    }
   ],
   "source": [
    "print(result)"
   ]
  },
  {
   "cell_type": "code",
   "execution_count": null,
   "id": "99c28de3",
   "metadata": {},
   "outputs": [],
   "source": []
  }
 ],
 "metadata": {
  "kernelspec": {
   "display_name": "Python [conda env:Anaconda3-pytorch]",
   "language": "python",
   "name": "conda-env-Anaconda3-pytorch-py"
  },
  "language_info": {
   "codemirror_mode": {
    "name": "ipython",
    "version": 3
   },
   "file_extension": ".py",
   "mimetype": "text/x-python",
   "name": "python",
   "nbconvert_exporter": "python",
   "pygments_lexer": "ipython3",
   "version": "3.9.15"
  }
 },
 "nbformat": 4,
 "nbformat_minor": 5
}
